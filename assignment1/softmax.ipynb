{
 "cells": [
  {
   "cell_type": "markdown",
   "metadata": {},
   "source": [
    "# Softmax exercise\n",
    "\n",
    "*Complete and hand in this completed worksheet (including its outputs and any supporting code outside of the worksheet) with your assignment submission. For more details see the [assignments page](http://vision.stanford.edu/teaching/cs231n/assignments.html) on the course website.*\n",
    "\n",
    "This exercise is analogous to the SVM exercise. You will:\n",
    "\n",
    "- implement a fully-vectorized **loss function** for the Softmax classifier\n",
    "- implement the fully-vectorized expression for its **analytic gradient**\n",
    "- **check your implementation** with numerical gradient\n",
    "- use a validation set to **tune the learning rate and regularization** strength\n",
    "- **optimize** the loss function with **SGD**\n",
    "- **visualize** the final learned weights\n"
   ]
  },
  {
   "cell_type": "code",
   "execution_count": 1,
   "metadata": {
    "collapsed": false
   },
   "outputs": [],
   "source": [
    "import random\n",
    "import numpy as np\n",
    "from cs231n.data_utils import load_CIFAR10\n",
    "import matplotlib.pyplot as plt\n",
    "%matplotlib inline\n",
    "plt.rcParams['figure.figsize'] = (10.0, 8.0) # set default size of plots\n",
    "plt.rcParams['image.interpolation'] = 'nearest'\n",
    "plt.rcParams['image.cmap'] = 'gray'\n",
    "\n",
    "# for auto-reloading extenrnal modules\n",
    "# see http://stackoverflow.com/questions/1907993/autoreload-of-modules-in-ipython\n",
    "%load_ext autoreload\n",
    "%autoreload 2"
   ]
  },
  {
   "cell_type": "code",
   "execution_count": 2,
   "metadata": {
    "collapsed": false
   },
   "outputs": [
    {
     "name": "stdout",
     "output_type": "stream",
     "text": [
      "Train data shape:  (49000, 3073)\n",
      "Train labels shape:  (49000,)\n",
      "Validation data shape:  (1000, 3073)\n",
      "Validation labels shape:  (1000,)\n",
      "Test data shape:  (1000, 3073)\n",
      "Test labels shape:  (1000,)\n",
      "dev data shape:  (500, 3073)\n",
      "dev labels shape:  (500,)\n"
     ]
    }
   ],
   "source": [
    "def get_CIFAR10_data(num_training=49000, num_validation=1000, num_test=1000, num_dev=500):\n",
    "  \"\"\"\n",
    "  Load the CIFAR-10 dataset from disk and perform preprocessing to prepare\n",
    "  it for the linear classifier. These are the same steps as we used for the\n",
    "  SVM, but condensed to a single function.  \n",
    "  \"\"\"\n",
    "  # Load the raw CIFAR-10 data\n",
    "  cifar10_dir = 'cs231n/datasets/cifar-10-batches-py'\n",
    "  X_train, y_train, X_test, y_test = load_CIFAR10(cifar10_dir)\n",
    "  \n",
    "  # subsample the data\n",
    "  mask = range(num_training, num_training + num_validation)\n",
    "  X_val = X_train[mask]\n",
    "  y_val = y_train[mask]\n",
    "  mask = range(num_training)\n",
    "  X_train = X_train[mask]\n",
    "  y_train = y_train[mask]\n",
    "  mask = range(num_test)\n",
    "  X_test = X_test[mask]\n",
    "  y_test = y_test[mask]\n",
    "  mask = np.random.choice(num_training, num_dev, replace=False)\n",
    "  X_dev = X_train[mask]\n",
    "  y_dev = y_train[mask]\n",
    "  \n",
    "  # Preprocessing: reshape the image data into rows\n",
    "  X_train = np.reshape(X_train, (X_train.shape[0], -1))\n",
    "  X_val = np.reshape(X_val, (X_val.shape[0], -1))\n",
    "  X_test = np.reshape(X_test, (X_test.shape[0], -1))\n",
    "  X_dev = np.reshape(X_dev, (X_dev.shape[0], -1))\n",
    "  \n",
    "  # Normalize the data: subtract the mean image\n",
    "  mean_image = np.mean(X_train, axis = 0)\n",
    "  X_train -= mean_image\n",
    "  X_val -= mean_image\n",
    "  X_test -= mean_image\n",
    "  X_dev -= mean_image\n",
    "  \n",
    "  # add bias dimension and transform into columns\n",
    "  X_train = np.hstack([X_train, np.ones((X_train.shape[0], 1))])\n",
    "  X_val = np.hstack([X_val, np.ones((X_val.shape[0], 1))])\n",
    "  X_test = np.hstack([X_test, np.ones((X_test.shape[0], 1))])\n",
    "  X_dev = np.hstack([X_dev, np.ones((X_dev.shape[0], 1))])\n",
    "  \n",
    "  return X_train, y_train, X_val, y_val, X_test, y_test, X_dev, y_dev\n",
    "\n",
    "\n",
    "# Invoke the above function to get our data.\n",
    "X_train, y_train, X_val, y_val, X_test, y_test, X_dev, y_dev = get_CIFAR10_data()\n",
    "print 'Train data shape: ', X_train.shape\n",
    "print 'Train labels shape: ', y_train.shape\n",
    "print 'Validation data shape: ', X_val.shape\n",
    "print 'Validation labels shape: ', y_val.shape\n",
    "print 'Test data shape: ', X_test.shape\n",
    "print 'Test labels shape: ', y_test.shape\n",
    "print 'dev data shape: ', X_dev.shape\n",
    "print 'dev labels shape: ', y_dev.shape"
   ]
  },
  {
   "cell_type": "markdown",
   "metadata": {},
   "source": [
    "## Softmax Classifier\n",
    "\n",
    "Your code for this section will all be written inside **cs231n/classifiers/softmax.py**. \n"
   ]
  },
  {
   "cell_type": "code",
   "execution_count": 7,
   "metadata": {
    "collapsed": false
   },
   "outputs": [
    {
     "name": "stdout",
     "output_type": "stream",
     "text": [
      "loss: 2.383135\n",
      "sanity check: 2.302585\n"
     ]
    }
   ],
   "source": [
    "# First implement the naive softmax loss function with nested loops.\n",
    "# Open the file cs231n/classifiers/softmax.py and implement the\n",
    "# softmax_loss_naive function.\n",
    "\n",
    "from cs231n.classifiers.softmax import softmax_loss_naive\n",
    "import time\n",
    "\n",
    "# Generate a random softmax weight matrix and use it to compute the loss.\n",
    "W = np.random.randn(3073, 10) * 0.0001\n",
    "loss, grad = softmax_loss_naive(W, X_dev, y_dev, 0.0)\n",
    "\n",
    "# As a rough sanity check, our loss should be something close to -log(0.1).\n",
    "print 'loss: %f' % loss\n",
    "print 'sanity check: %f' % (-np.log(0.1))"
   ]
  },
  {
   "cell_type": "markdown",
   "metadata": {},
   "source": [
    "## Inline Question 1:\n",
    "Why do we expect our loss to be close to -log(0.1)? Explain briefly.**\n",
    "\n",
    "**Your answer:** *Fill this in*\n",
    "* while initializing, the weight W are small numbers, score ~= 0, e^(wx) has the similar size, loss[i] similar to -log(x/10x) \n"
   ]
  },
  {
   "cell_type": "code",
   "execution_count": 9,
   "metadata": {
    "collapsed": false
   },
   "outputs": [
    {
     "name": "stdout",
     "output_type": "stream",
     "text": [
      "numerical: -1.425616 analytic: -1.425616, relative error: 4.680188e-08\n",
      "numerical: 0.798878 analytic: 0.798878, relative error: 7.993280e-08\n",
      "numerical: 0.597544 analytic: 0.597544, relative error: 7.119921e-08\n",
      "numerical: 1.884308 analytic: 1.884308, relative error: 2.169888e-08\n",
      "numerical: 0.506937 analytic: 0.506937, relative error: 3.480554e-08\n",
      "numerical: 0.682221 analytic: 0.682221, relative error: 4.623593e-08\n",
      "numerical: 1.178498 analytic: 1.178498, relative error: 8.045650e-09\n",
      "numerical: -2.023876 analytic: -2.023876, relative error: 1.239320e-08\n",
      "numerical: -1.967911 analytic: -1.967911, relative error: 3.996856e-08\n",
      "numerical: 4.836892 analytic: 4.836892, relative error: 9.260247e-09\n",
      "numerical: 0.841123 analytic: 0.841123, relative error: 4.999704e-08\n",
      "numerical: 1.392654 analytic: 1.392654, relative error: 1.216110e-08\n",
      "numerical: -0.248185 analytic: -0.248185, relative error: 2.836817e-07\n",
      "numerical: -5.127176 analytic: -5.127176, relative error: 8.522005e-10\n",
      "numerical: 1.954039 analytic: 1.954039, relative error: 2.101010e-08\n",
      "numerical: 1.491348 analytic: 1.491348, relative error: 2.015224e-08\n",
      "numerical: -1.318217 analytic: -1.318217, relative error: 3.917835e-08\n",
      "numerical: -0.095955 analytic: -0.095955, relative error: 3.195760e-08\n",
      "numerical: 0.032280 analytic: 0.032280, relative error: 2.428843e-06\n",
      "numerical: -0.057544 analytic: -0.057544, relative error: 1.259180e-06\n"
     ]
    }
   ],
   "source": [
    "# Complete the implementation of softmax_loss_naive and implement a (naive)\n",
    "# version of the gradient that uses nested loops.\n",
    "loss, grad = softmax_loss_naive(W, X_dev, y_dev, 0.0)\n",
    "\n",
    "# As we did for the SVM, use numeric gradient checking as a debugging tool.\n",
    "# The numeric gradient should be close to the analytic gradient.\n",
    "from cs231n.gradient_check import grad_check_sparse\n",
    "f = lambda w: softmax_loss_naive(w, X_dev, y_dev, 0.0)[0]\n",
    "grad_numerical = grad_check_sparse(f, W, grad, 10)\n",
    "\n",
    "# similar to SVM case, do another gradient check with regularization\n",
    "loss, grad = softmax_loss_naive(W, X_dev, y_dev, 1e2)\n",
    "f = lambda w: softmax_loss_naive(w, X_dev, y_dev, 1e2)[0]\n",
    "grad_numerical = grad_check_sparse(f, W, grad, 10)"
   ]
  },
  {
   "cell_type": "code",
   "execution_count": 13,
   "metadata": {
    "collapsed": false
   },
   "outputs": [
    {
     "name": "stdout",
     "output_type": "stream",
     "text": [
      "naive loss: 2.383135e+00 computed in 0.107726s\n",
      "vectorized loss: 2.383135e+00 computed in 0.006022s\n",
      "Loss difference: 0.000000\n",
      "Gradient difference: 0.000000\n"
     ]
    }
   ],
   "source": [
    "# Now that we have a naive implementation of the softmax loss function and its gradient,\n",
    "# implement a vectorized version in softmax_loss_vectorized.\n",
    "# The two versions should compute the same results, but the vectorized version should be\n",
    "# much faster.\n",
    "tic = time.time()\n",
    "loss_naive, grad_naive = softmax_loss_naive(W, X_dev, y_dev, 0.00001)\n",
    "toc = time.time()\n",
    "print 'naive loss: %e computed in %fs' % (loss_naive, toc - tic)\n",
    "\n",
    "from cs231n.classifiers.softmax import softmax_loss_vectorized\n",
    "tic = time.time()\n",
    "loss_vectorized, grad_vectorized = softmax_loss_vectorized(W, X_dev, y_dev, 0.00001)\n",
    "toc = time.time()\n",
    "print 'vectorized loss: %e computed in %fs' % (loss_vectorized, toc - tic)\n",
    "\n",
    "# As we did for the SVM, we use the Frobenius norm to compare the two versions\n",
    "# of the gradient.\n",
    "grad_difference = np.linalg.norm(grad_naive - grad_vectorized, ord='fro')\n",
    "print 'Loss difference: %f' % np.abs(loss_naive - loss_vectorized)\n",
    "print 'Gradient difference: %f' % grad_difference"
   ]
  },
  {
   "cell_type": "code",
   "execution_count": 18,
   "metadata": {
    "collapsed": false
   },
   "outputs": [
    {
     "name": "stdout",
     "output_type": "stream",
     "text": [
      "iteration 0 / 500: loss 769.467034\n",
      "iteration 100 / 500: loss 282.569968\n",
      "iteration 200 / 500: loss 104.668424\n",
      "iteration 300 / 500: loss 39.605936\n",
      "iteration 400 / 500: loss 15.749761\n",
      "iteration 0 / 500: loss 308217.660066\n",
      "iteration 100 / 500: loss 687134.694131\n",
      "iteration 200 / 500: loss 1533089.840125\n",
      "iteration 300 / 500: loss 3419750.607393\n",
      "iteration 400 / 500: loss 7622154.148109\n",
      "iteration 0 / 500: loss 614920.115251\n",
      "iteration 100 / 500: loss inf\n",
      "iteration 200 / 500: loss inf\n",
      "iteration 300 / 500: loss inf\n",
      "iteration 400 / 500: loss inf\n",
      "iteration 0 / 500: loss 920921.453092\n",
      "iteration 100 / 500: loss inf\n",
      "iteration 200 / 500: loss inf\n",
      "iteration 300 / 500: loss inf\n",
      "iteration 400 / 500: loss inf\n",
      "iteration 0 / 500: loss 1226572.331549\n",
      "iteration 100 / 500: loss inf\n",
      "iteration 200 / 500: loss inf\n",
      "iteration 300 / 500: loss inf\n",
      "iteration 400 / 500: loss nan\n",
      "iteration 0 / 500: loss 776.897292\n",
      "iteration 100 / 500: loss 128.307613\n",
      "iteration 200 / 500: loss 22.717162\n",
      "iteration 300 / 500: loss 5.468530\n",
      "iteration 400 / 500: loss 2.602989\n",
      "iteration 0 / 500: loss 305638.685319\n",
      "iteration 100 / 500: loss inf\n",
      "iteration 200 / 500: loss inf\n",
      "iteration 300 / 500: loss inf\n",
      "iteration 400 / 500: loss inf\n",
      "iteration 0 / 500: loss 611734.375325\n",
      "iteration 100 / 500: loss inf\n",
      "iteration 200 / 500: loss inf\n",
      "iteration 300 / 500: loss inf\n",
      "iteration 400 / 500: loss nan\n",
      "iteration 0 / 500: loss 933809.213173\n",
      "iteration 100 / 500: loss inf\n",
      "iteration 200 / 500: loss inf\n",
      "iteration 300 / 500: loss inf\n",
      "iteration 400 / 500: loss nan\n",
      "iteration 0 / 500: loss 1246994.836566\n",
      "iteration 100 / 500: loss inf\n",
      "iteration 200 / 500: loss inf\n",
      "iteration 300 / 500: loss nan\n",
      "iteration 400 / 500: loss nan\n",
      "iteration 0 / 500: loss 775.864638\n",
      "iteration 100 / 500: loss 57.956850\n",
      "iteration 200 / 500: loss 6.180874\n",
      "iteration 300 / 500: loss 2.360720\n",
      "iteration 400 / 500: loss 2.043222\n",
      "iteration 0 / 500: loss 304419.642346\n",
      "iteration 100 / 500: loss inf\n",
      "iteration 200 / 500: loss inf\n",
      "iteration 300 / 500: loss inf\n",
      "iteration 400 / 500: loss inf\n",
      "iteration 0 / 500: loss 615066.006240\n",
      "iteration 100 / 500: loss inf\n",
      "iteration 200 / 500: loss inf\n",
      "iteration 300 / 500: loss inf\n",
      "iteration 400 / 500: loss nan\n",
      "iteration 0 / 500: loss 927037.409082\n",
      "iteration 100 / 500: loss inf\n",
      "iteration 200 / 500: loss inf\n",
      "iteration 300 / 500: loss nan\n",
      "iteration 400 / 500: loss nan\n",
      "iteration 0 / 500: loss 1235665.841147\n",
      "iteration 100 / 500: loss inf\n",
      "iteration 200 / 500: loss inf\n",
      "iteration 300 / 500: loss nan\n",
      "iteration 400 / 500: loss nan\n",
      "iteration 0 / 500: loss 766.999791\n",
      "iteration 100 / 500: loss 26.567887\n",
      "iteration 200 / 500: loss 2.818233\n",
      "iteration 300 / 500: loss 2.139006\n",
      "iteration 400 / 500: loss 2.129475\n",
      "iteration 0 / 500: loss 306545.133652\n",
      "iteration 100 / 500: loss inf\n",
      "iteration 200 / 500: loss inf\n",
      "iteration 300 / 500: loss inf\n",
      "iteration 400 / 500: loss nan\n",
      "iteration 0 / 500: loss 621053.419589\n",
      "iteration 100 / 500: loss inf\n",
      "iteration 200 / 500: loss inf\n",
      "iteration 300 / 500: loss nan\n",
      "iteration 400 / 500: loss nan\n",
      "iteration 0 / 500: loss 909771.368001\n",
      "iteration 100 / 500: loss inf\n",
      "iteration 200 / 500: loss inf\n",
      "iteration 300 / 500: loss nan\n",
      "iteration 400 / 500: loss nan\n",
      "iteration 0 / 500: loss 1229528.496226\n",
      "iteration 100 / 500: loss inf\n",
      "iteration 200 / 500: loss inf\n",
      "iteration 300 / 500: loss nan\n",
      "iteration 400 / 500: loss nan\n",
      "iteration 0 / 500: loss 771.527576\n",
      "iteration 100 / 500: loss 12.980663\n",
      "iteration 200 / 500: loss 2.317413\n",
      "iteration 300 / 500: loss 2.067823\n",
      "iteration 400 / 500: loss 2.034305\n",
      "iteration 0 / 500: loss 313893.609801\n",
      "iteration 100 / 500: loss inf\n",
      "iteration 200 / 500: loss inf\n",
      "iteration 300 / 500: loss inf\n",
      "iteration 400 / 500: loss nan\n",
      "iteration 0 / 500: loss 619469.884215\n",
      "iteration 100 / 500: loss inf\n",
      "iteration 200 / 500: loss inf\n",
      "iteration 300 / 500: loss nan\n",
      "iteration 400 / 500: loss nan\n",
      "iteration 0 / 500: loss 914157.693677\n",
      "iteration 100 / 500: loss inf\n",
      "iteration 200 / 500: loss inf\n",
      "iteration 300 / 500: loss nan\n",
      "iteration 400 / 500: loss nan\n",
      "iteration 0 / 500: loss 1228447.633888\n",
      "iteration 100 / 500: loss inf\n",
      "iteration 200 / 500: loss inf\n",
      "iteration 300 / 500: loss nan\n",
      "iteration 400 / 500: loss nan\n",
      "lr 1.000000e-07 reg 5.000000e+04 train accuracy: 0.309878 val accuracy: 0.345000\n",
      "lr 1.000000e-07 reg 2.004000e+07 train accuracy: 0.069837 val accuracy: 0.082000\n",
      "lr 1.000000e-07 reg 4.003000e+07 train accuracy: 0.128898 val accuracy: 0.126000\n",
      "lr 1.000000e-07 reg 6.002000e+07 train accuracy: 0.100265 val accuracy: 0.087000\n",
      "lr 1.000000e-07 reg 8.001000e+07 train accuracy: 0.100265 val accuracy: 0.087000\n",
      "lr 1.800000e-07 reg 5.000000e+04 train accuracy: 0.334796 val accuracy: 0.348000\n",
      "lr 1.800000e-07 reg 2.004000e+07 train accuracy: 0.105327 val accuracy: 0.128000\n",
      "lr 1.800000e-07 reg 4.003000e+07 train accuracy: 0.100265 val accuracy: 0.087000\n",
      "lr 1.800000e-07 reg 6.002000e+07 train accuracy: 0.100265 val accuracy: 0.087000\n",
      "lr 1.800000e-07 reg 8.001000e+07 train accuracy: 0.100265 val accuracy: 0.087000\n",
      "lr 2.600000e-07 reg 5.000000e+04 train accuracy: 0.327531 val accuracy: 0.329000\n",
      "lr 2.600000e-07 reg 2.004000e+07 train accuracy: 0.100265 val accuracy: 0.087000\n",
      "lr 2.600000e-07 reg 4.003000e+07 train accuracy: 0.100265 val accuracy: 0.087000\n",
      "lr 2.600000e-07 reg 6.002000e+07 train accuracy: 0.100265 val accuracy: 0.087000\n",
      "lr 2.600000e-07 reg 8.001000e+07 train accuracy: 0.100265 val accuracy: 0.087000\n",
      "lr 3.400000e-07 reg 5.000000e+04 train accuracy: 0.329143 val accuracy: 0.343000\n",
      "lr 3.400000e-07 reg 2.004000e+07 train accuracy: 0.100265 val accuracy: 0.087000\n",
      "lr 3.400000e-07 reg 4.003000e+07 train accuracy: 0.100265 val accuracy: 0.087000\n",
      "lr 3.400000e-07 reg 6.002000e+07 train accuracy: 0.100265 val accuracy: 0.087000\n",
      "lr 3.400000e-07 reg 8.001000e+07 train accuracy: 0.100265 val accuracy: 0.087000\n",
      "lr 4.200000e-07 reg 5.000000e+04 train accuracy: 0.327327 val accuracy: 0.332000\n",
      "lr 4.200000e-07 reg 2.004000e+07 train accuracy: 0.100265 val accuracy: 0.087000\n",
      "lr 4.200000e-07 reg 4.003000e+07 train accuracy: 0.100265 val accuracy: 0.087000\n",
      "lr 4.200000e-07 reg 6.002000e+07 train accuracy: 0.100265 val accuracy: 0.087000\n",
      "lr 4.200000e-07 reg 8.001000e+07 train accuracy: 0.100265 val accuracy: 0.087000\n",
      "best validation accuracy achieved during cross-validation: 0.348000\n"
     ]
    }
   ],
   "source": [
    "# Use the validation set to tune hyperparameters (regularization strength and\n",
    "# learning rate). You should experiment with different ranges for the learning\n",
    "# rates and regularization strengths; if you are careful you should be able to\n",
    "# get a classification accuracy of over 0.35 on the validation set.\n",
    "from cs231n.classifiers import Softmax\n",
    "results = {}\n",
    "best_val = -1\n",
    "best_softmax = None\n",
    "learning_rates = [1e-7, 5e-7]\n",
    "regularization_strengths = [5e4, 1e8]\n",
    "\n",
    "################################################################################\n",
    "# TODO:                                                                        #\n",
    "# Use the validation set to set the learning rate and regularization strength. #\n",
    "# This should be identical to the validation that you did for the SVM; save    #\n",
    "# the best trained softmax classifer in best_softmax.                          #\n",
    "################################################################################\n",
    "for lr in np.arange(learning_rates[0], learning_rates[1], \n",
    "                    (learning_rates[1]-learning_rates[0])/5):\n",
    "    for rs in np.arange(regularization_strengths[0], regularization_strengths[1], \n",
    "                         (regularization_strengths[1]-regularization_strengths[0])/5):\n",
    "        classifier = Softmax()\n",
    "        classifier.train(X_train, y_train, learning_rate=lr, reg=rs,\n",
    "                      num_iters=500, verbose=True)\n",
    "        y_train_pred = classifier.predict(X_train)\n",
    "        acu_train = np.mean(y_train == y_train_pred)\n",
    "        y_val_pred = classifier.predict(X_val)\n",
    "        acu_val = np.mean(y_val == y_val_pred)\n",
    "        results[(lr, rs)]=(acu_train, acu_val)\n",
    "        if acu_val > best_val:\n",
    "            best_val = acu_val\n",
    "            best_softmax=classifier\n",
    "################################################################################\n",
    "#                              END OF YOUR CODE                                #\n",
    "################################################################################\n",
    "    \n",
    "# Print out results.\n",
    "for lr, reg in sorted(results):\n",
    "    train_accuracy, val_accuracy = results[(lr, reg)]\n",
    "    print 'lr %e reg %e train accuracy: %f val accuracy: %f' % (\n",
    "                lr, reg, train_accuracy, val_accuracy)\n",
    "    \n",
    "print 'best validation accuracy achieved during cross-validation: %f' % best_val"
   ]
  },
  {
   "cell_type": "code",
   "execution_count": 19,
   "metadata": {
    "collapsed": false
   },
   "outputs": [
    {
     "name": "stdout",
     "output_type": "stream",
     "text": [
      "softmax on raw pixels final test set accuracy: 0.343000\n"
     ]
    }
   ],
   "source": [
    "# evaluate on test set\n",
    "# Evaluate the best softmax on test set\n",
    "y_test_pred = best_softmax.predict(X_test)\n",
    "test_accuracy = np.mean(y_test == y_test_pred)\n",
    "print 'softmax on raw pixels final test set accuracy: %f' % (test_accuracy, )"
   ]
  },
  {
   "cell_type": "code",
   "execution_count": 20,
   "metadata": {
    "collapsed": false
   },
   "outputs": [
    {
     "data": {
      "image/png": "[encoded data removed]",
      "text/plain": [
       "<matplotlib.figure.Figure at 0x1150c4d90>"
      ]
     },
     "metadata": {},
     "output_type": "display_data"
    }
   ],
   "source": [
    "# Visualize the learned weights for each class\n",
    "w = best_softmax.W[:-1,:] # strip out the bias\n",
    "w = w.reshape(32, 32, 3, 10)\n",
    "\n",
    "w_min, w_max = np.min(w), np.max(w)\n",
    "\n",
    "classes = ['plane', 'car', 'bird', 'cat', 'deer', 'dog', 'frog', 'horse', 'ship', 'truck']\n",
    "for i in xrange(10):\n",
    "  plt.subplot(2, 5, i + 1)\n",
    "  \n",
    "  # Rescale the weights to be between 0 and 255\n",
    "  wimg = 255.0 * (w[:, :, :, i].squeeze() - w_min) / (w_max - w_min)\n",
    "  plt.imshow(wimg.astype('uint8'))\n",
    "  plt.axis('off')\n",
    "  plt.title(classes[i])"
   ]
  },
  {
   "cell_type": "code",
   "execution_count": null,
   "metadata": {
    "collapsed": true
   },
   "outputs": [],
   "source": []
  }
 ],
 "metadata": {
  "kernelspec": {
   "display_name": "Python 2",
   "language": "python",
   "name": "python2"
  },
  "language_info": {
   "codemirror_mode": {
    "name": "ipython",
    "version": 2
   },
   "file_extension": ".py",
   "mimetype": "text/x-python",
   "name": "python",
   "nbconvert_exporter": "python",
   "pygments_lexer": "ipython2",
   "version": "2.7.10"
  }
 },
 "nbformat": 4,
 "nbformat_minor": 0
}
